{
 "cells": [
  {
   "cell_type": "code",
   "execution_count": 1,
   "metadata": {},
   "outputs": [],
   "source": [
    "library(twitteR)"
   ]
  },
  {
   "cell_type": "code",
   "execution_count": 2,
   "metadata": {},
   "outputs": [
    {
     "name": "stdout",
     "output_type": "stream",
     "text": [
      "[1] \"Using direct authentication\"\n"
     ]
    }
   ],
   "source": [
    "consumer_key <- \"Binqmp6m2gBhf0xGMwHC8y6Dz\"\n",
    "consumer_secret <- \"hN2YYXrtCHZyLjYN28JcGj1UEHygY2EMrJ4UIEMdntO5WreH1O\"\n",
    "access_token <- \"877850572681916416-BMA9IPreObacxE02eyqXUuJJquQGrHL\"\n",
    "access_secret <- \"orseSD4oKKeRd0AywUB91bA2eePixsI5ht4nRu9YwxCT4\"\n",
    "setup_twitter_oauth(consumer_key, consumer_secret, access_token, access_secret)"
   ]
  },
  {
   "cell_type": "code",
   "execution_count": 6,
   "metadata": {},
   "outputs": [
    {
     "name": "stdout",
     "output_type": "stream",
     "text": [
      "[1] \"Using direct authentication\"\n"
     ]
    }
   ],
   "source": [
    "consumer_key <- \"34tKxJkGOutOtgyKDU0hJAsUk\"\n",
    "consumer_secret <- \"a65Sj0EONkBiPOBg2O8tBstA1nvHydCAT81JAC0ssM5M1mMBj7\"\n",
    "access_token <- \"877850572681916416-GYp3Q5ZD5uY3rgdHtC5VEYo4QlBFy1d\"\n",
    "access_secret <- \"o984A1JGocVm0Op5Y3Y48PxDx0RBYjvMsYtM2hsBOd2Je\"\n",
    "setup_twitter_oauth(consumer_key, consumer_secret, access_token, access_secret)"
   ]
  },
  {
   "cell_type": "code",
   "execution_count": 3,
   "metadata": {},
   "outputs": [],
   "source": [
    "db2 <- RSQLite::datasetsDb() # Initialie a database\n",
    "register_db_backend(db2) #Functions to setup a database backend for twitteR\n",
    "sql_lite_file='VeeraDB' #path to db file\n",
    "register_sqlite_backend(sql_lite_file)  #create the DBI connection and call register_db_backend"
   ]
  },
  {
   "cell_type": "code",
   "execution_count": 11,
   "metadata": {
    "scrolled": true
   },
   "outputs": [],
   "source": [
    "# tweetresult <- search_twitter_and_store(searchString = \"flu no work\",lang = 'en', retryOnRateLimit = 120);\n",
    "tweetresult <- unclass(search_twitter_and_store(searchString = \"flu\",lang = 'en', retryOnRateLimit = 120)[[1]])\n",
    "# flu +\n",
    "# flu no work\n",
    "# flu down\n",
    "# flu vomiting\n",
    "# flu coughing\n",
    "# flu with sick\n",
    "\n",
    "# flu Headache\n",
    "# flu diarrhea\n",
    "# flu Fatigue\n",
    "# flu fever\n",
    "# flu season\n",
    "\n"
   ]
  },
  {
   "cell_type": "code",
   "execution_count": 12,
   "metadata": {},
   "outputs": [],
   "source": [
    "con = dbConnect(SQLite(), dbname=\"VeeraDB\")"
   ]
  },
  {
   "cell_type": "code",
   "execution_count": 13,
   "metadata": {},
   "outputs": [],
   "source": [
    "myQuery <- dbSendQuery(con, \"SELECT * FROM tweets\")"
   ]
  },
  {
   "cell_type": "code",
   "execution_count": 14,
   "metadata": {},
   "outputs": [],
   "source": [
    "my_data <- dbFetch(myQuery, n = -1)"
   ]
  },
  {
   "cell_type": "code",
   "execution_count": 15,
   "metadata": {},
   "outputs": [
    {
     "ename": "ERROR",
     "evalue": "Error in twListToDF(my_data): Not all elements of twList are of the same class\n",
     "output_type": "error",
     "traceback": [
      "Error in twListToDF(my_data): Not all elements of twList are of the same class\nTraceback:\n",
      "1. twListToDF(my_data)",
      "2. stop(\"Not all elements of twList are of the same class\")"
     ]
    }
   ],
   "source": [
    "\n",
    "df <- twListToDF(my_data)"
   ]
  },
  {
   "cell_type": "code",
   "execution_count": null,
   "metadata": {},
   "outputs": [],
   "source": []
  }
 ],
 "metadata": {
  "kernelspec": {
   "display_name": "R",
   "language": "R",
   "name": "ir"
  },
  "language_info": {
   "codemirror_mode": "r",
   "file_extension": ".r",
   "mimetype": "text/x-r-source",
   "name": "R",
   "pygments_lexer": "r",
   "version": "3.4.3"
  }
 },
 "nbformat": 4,
 "nbformat_minor": 2
}
